{
 "cells": [
  {
   "cell_type": "markdown",
   "metadata": {},
   "source": [
    "# Model Monitoring and Alerting with MLflow\n"
   ]
  },
  {
   "cell_type": "markdown",
   "metadata": {},
   "source": [
    "## Steps\n",
    "1. **Data Preparation**: Load the reference and current datasets for monitoring.\n",
    "2. **Model Training and Logging**: Train a machine learning model and log it to MLflow along with key metrics.\n",
    "3. **Performance Monitoring**: Track inference time, accuracy, and other performance metrics.\n",
    "4. **Data Drift Detection**: Identify data drift using statistical tests like the  Kolmogorov-Smirnov (KS) Test.\n",
    "5. **Alert System**: Configure and trigger alerts for stakeholders via email.\n",
    "6. **Run Monitoring Pipeline**: Combine all steps into a pipeline and execute monitoring cycles."
   ]
  },
  {
   "cell_type": "code",
   "execution_count": 1,
   "metadata": {},
   "outputs": [
    {
     "name": "stdout",
     "output_type": "stream",
     "text": [
      "Requirement already satisfied: mlflow in c:\\users\\ujjaval\\anaconda3\\envs\\pythonproject\\lib\\site-packages (2.4.1)\n",
      "Requirement already satisfied: pandas in c:\\users\\ujjaval\\anaconda3\\envs\\pythonproject\\lib\\site-packages (2.1.4)\n",
      "Requirement already satisfied: numpy in c:\\users\\ujjaval\\anaconda3\\envs\\pythonproject\\lib\\site-packages (1.26.4)\n",
      "Requirement already satisfied: scikit-learn in c:\\users\\ujjaval\\anaconda3\\envs\\pythonproject\\lib\\site-packages (1.2.2)\n",
      "Requirement already satisfied: python-dotenv in c:\\users\\ujjaval\\anaconda3\\envs\\pythonproject\\lib\\site-packages (1.0.1)\n",
      "Requirement already satisfied: click<9,>=7.0 in c:\\users\\ujjaval\\anaconda3\\envs\\pythonproject\\lib\\site-packages (from mlflow) (8.1.8)\n",
      "Requirement already satisfied: cloudpickle<3 in c:\\users\\ujjaval\\anaconda3\\envs\\pythonproject\\lib\\site-packages (from mlflow) (2.2.1)\n",
      "Requirement already satisfied: databricks-cli<1,>=0.8.7 in c:\\users\\ujjaval\\anaconda3\\envs\\pythonproject\\lib\\site-packages (from mlflow) (0.17.7)\n",
      "Requirement already satisfied: entrypoints<1 in c:\\users\\ujjaval\\anaconda3\\envs\\pythonproject\\lib\\site-packages (from mlflow) (0.4)\n",
      "Requirement already satisfied: gitpython<4,>=2.1.0 in c:\\users\\ujjaval\\anaconda3\\envs\\pythonproject\\lib\\site-packages (from mlflow) (3.1.31)\n",
      "Requirement already satisfied: pyyaml<7,>=5.1 in c:\\users\\ujjaval\\anaconda3\\envs\\pythonproject\\lib\\site-packages (from mlflow) (6.0.1)\n",
      "Requirement already satisfied: protobuf<5,>=3.12.0 in c:\\users\\ujjaval\\anaconda3\\envs\\pythonproject\\lib\\site-packages (from mlflow) (4.23.3)\n",
      "Requirement already satisfied: pytz<2024 in c:\\users\\ujjaval\\anaconda3\\envs\\pythonproject\\lib\\site-packages (from mlflow) (2023.3)\n",
      "Requirement already satisfied: requests<3,>=2.17.3 in c:\\users\\ujjaval\\anaconda3\\envs\\pythonproject\\lib\\site-packages (from mlflow) (2.31.0)\n",
      "Requirement already satisfied: packaging<24 in c:\\users\\ujjaval\\anaconda3\\envs\\pythonproject\\lib\\site-packages (from mlflow) (23.2)\n",
      "Requirement already satisfied: importlib-metadata!=4.7.0,<7,>=3.7.0 in c:\\users\\ujjaval\\anaconda3\\envs\\pythonproject\\lib\\site-packages (from mlflow) (6.11.0)\n",
      "Requirement already satisfied: sqlparse<1,>=0.4.0 in c:\\users\\ujjaval\\anaconda3\\envs\\pythonproject\\lib\\site-packages (from mlflow) (0.4.4)\n",
      "Requirement already satisfied: alembic!=1.10.0,<2 in c:\\users\\ujjaval\\anaconda3\\envs\\pythonproject\\lib\\site-packages (from mlflow) (1.11.1)\n",
      "Requirement already satisfied: docker<7,>=4.0.0 in c:\\users\\ujjaval\\anaconda3\\envs\\pythonproject\\lib\\site-packages (from mlflow) (6.1.3)\n",
      "Requirement already satisfied: Flask<3 in c:\\users\\ujjaval\\anaconda3\\envs\\pythonproject\\lib\\site-packages (from mlflow) (2.3.2)\n",
      "Requirement already satisfied: scipy<2 in c:\\users\\ujjaval\\anaconda3\\envs\\pythonproject\\lib\\site-packages (from mlflow) (1.10.1)\n",
      "Requirement already satisfied: querystring-parser<2 in c:\\users\\ujjaval\\anaconda3\\envs\\pythonproject\\lib\\site-packages (from mlflow) (1.2.4)\n",
      "Requirement already satisfied: sqlalchemy<3,>=1.4.0 in c:\\users\\ujjaval\\anaconda3\\envs\\pythonproject\\lib\\site-packages (from mlflow) (2.0.17)\n",
      "Requirement already satisfied: pyarrow<13,>=4.0.0 in c:\\users\\ujjaval\\anaconda3\\envs\\pythonproject\\lib\\site-packages (from mlflow) (12.0.1)\n",
      "Requirement already satisfied: markdown<4,>=3.3 in c:\\users\\ujjaval\\anaconda3\\envs\\pythonproject\\lib\\site-packages (from mlflow) (3.4.3)\n",
      "Requirement already satisfied: matplotlib<4 in c:\\users\\ujjaval\\anaconda3\\envs\\pythonproject\\lib\\site-packages (from mlflow) (3.7.1)\n",
      "Requirement already satisfied: waitress<3 in c:\\users\\ujjaval\\anaconda3\\envs\\pythonproject\\lib\\site-packages (from mlflow) (2.1.2)\n",
      "Requirement already satisfied: Jinja2<4,>=3.0 in c:\\users\\ujjaval\\anaconda3\\envs\\pythonproject\\lib\\site-packages (from mlflow) (3.1.2)\n",
      "Requirement already satisfied: python-dateutil>=2.8.2 in c:\\users\\ujjaval\\anaconda3\\envs\\pythonproject\\lib\\site-packages (from pandas) (2.9.0)\n",
      "Requirement already satisfied: tzdata>=2022.1 in c:\\users\\ujjaval\\anaconda3\\envs\\pythonproject\\lib\\site-packages (from pandas) (2023.3)\n",
      "Requirement already satisfied: joblib>=1.1.1 in c:\\users\\ujjaval\\anaconda3\\envs\\pythonproject\\lib\\site-packages (from scikit-learn) (1.3.0)\n",
      "Requirement already satisfied: threadpoolctl>=2.0.0 in c:\\users\\ujjaval\\anaconda3\\envs\\pythonproject\\lib\\site-packages (from scikit-learn) (3.1.0)\n",
      "Requirement already satisfied: Mako in c:\\users\\ujjaval\\anaconda3\\envs\\pythonproject\\lib\\site-packages (from alembic!=1.10.0,<2->mlflow) (1.2.4)\n",
      "Requirement already satisfied: typing-extensions>=4 in c:\\users\\ujjaval\\anaconda3\\envs\\pythonproject\\lib\\site-packages (from alembic!=1.10.0,<2->mlflow) (4.11.0)\n",
      "Requirement already satisfied: colorama in c:\\users\\ujjaval\\anaconda3\\envs\\pythonproject\\lib\\site-packages (from click<9,>=7.0->mlflow) (0.4.6)\n",
      "Requirement already satisfied: pyjwt>=1.7.0 in c:\\users\\ujjaval\\anaconda3\\envs\\pythonproject\\lib\\site-packages (from databricks-cli<1,>=0.8.7->mlflow) (2.7.0)\n",
      "Requirement already satisfied: oauthlib>=3.1.0 in c:\\users\\ujjaval\\anaconda3\\envs\\pythonproject\\lib\\site-packages (from databricks-cli<1,>=0.8.7->mlflow) (3.2.2)\n",
      "Requirement already satisfied: tabulate>=0.7.7 in c:\\users\\ujjaval\\anaconda3\\envs\\pythonproject\\lib\\site-packages (from databricks-cli<1,>=0.8.7->mlflow) (0.9.0)\n",
      "Requirement already satisfied: six>=1.10.0 in c:\\users\\ujjaval\\anaconda3\\envs\\pythonproject\\lib\\site-packages (from databricks-cli<1,>=0.8.7->mlflow) (1.16.0)\n",
      "Requirement already satisfied: urllib3<2.0.0,>=1.26.7 in c:\\users\\ujjaval\\anaconda3\\envs\\pythonproject\\lib\\site-packages (from databricks-cli<1,>=0.8.7->mlflow) (1.26.18)\n",
      "Requirement already satisfied: websocket-client>=0.32.0 in c:\\users\\ujjaval\\anaconda3\\envs\\pythonproject\\lib\\site-packages (from docker<7,>=4.0.0->mlflow) (1.6.1)\n",
      "Requirement already satisfied: pywin32>=304 in c:\\users\\ujjaval\\anaconda3\\envs\\pythonproject\\lib\\site-packages (from docker<7,>=4.0.0->mlflow) (306)\n",
      "Requirement already satisfied: Werkzeug>=2.3.3 in c:\\users\\ujjaval\\anaconda3\\envs\\pythonproject\\lib\\site-packages (from Flask<3->mlflow) (2.3.6)\n",
      "Requirement already satisfied: itsdangerous>=2.1.2 in c:\\users\\ujjaval\\anaconda3\\envs\\pythonproject\\lib\\site-packages (from Flask<3->mlflow) (2.1.2)\n",
      "Requirement already satisfied: blinker>=1.6.2 in c:\\users\\ujjaval\\anaconda3\\envs\\pythonproject\\lib\\site-packages (from Flask<3->mlflow) (1.6.2)\n",
      "Requirement already satisfied: gitdb<5,>=4.0.1 in c:\\users\\ujjaval\\anaconda3\\envs\\pythonproject\\lib\\site-packages (from gitpython<4,>=2.1.0->mlflow) (4.0.10)\n",
      "Requirement already satisfied: zipp>=0.5 in c:\\users\\ujjaval\\anaconda3\\envs\\pythonproject\\lib\\site-packages (from importlib-metadata!=4.7.0,<7,>=3.7.0->mlflow) (3.17.0)\n",
      "Requirement already satisfied: MarkupSafe>=2.0 in c:\\users\\ujjaval\\anaconda3\\envs\\pythonproject\\lib\\site-packages (from Jinja2<4,>=3.0->mlflow) (2.1.3)\n",
      "Requirement already satisfied: contourpy>=1.0.1 in c:\\users\\ujjaval\\anaconda3\\envs\\pythonproject\\lib\\site-packages (from matplotlib<4->mlflow) (1.0.7)\n",
      "Requirement already satisfied: cycler>=0.10 in c:\\users\\ujjaval\\anaconda3\\envs\\pythonproject\\lib\\site-packages (from matplotlib<4->mlflow) (0.11.0)\n",
      "Requirement already satisfied: fonttools>=4.22.0 in c:\\users\\ujjaval\\anaconda3\\envs\\pythonproject\\lib\\site-packages (from matplotlib<4->mlflow) (4.39.4)\n",
      "Requirement already satisfied: kiwisolver>=1.0.1 in c:\\users\\ujjaval\\anaconda3\\envs\\pythonproject\\lib\\site-packages (from matplotlib<4->mlflow) (1.4.4)\n",
      "Requirement already satisfied: pillow>=6.2.0 in c:\\users\\ujjaval\\anaconda3\\envs\\pythonproject\\lib\\site-packages (from matplotlib<4->mlflow) (9.5.0)\n",
      "Requirement already satisfied: pyparsing>=2.3.1 in c:\\users\\ujjaval\\anaconda3\\envs\\pythonproject\\lib\\site-packages (from matplotlib<4->mlflow) (3.1.0)\n",
      "Requirement already satisfied: charset-normalizer<4,>=2 in c:\\users\\ujjaval\\anaconda3\\envs\\pythonproject\\lib\\site-packages (from requests<3,>=2.17.3->mlflow) (3.3.2)\n",
      "Requirement already satisfied: idna<4,>=2.5 in c:\\users\\ujjaval\\anaconda3\\envs\\pythonproject\\lib\\site-packages (from requests<3,>=2.17.3->mlflow) (3.10)\n",
      "Requirement already satisfied: certifi>=2017.4.17 in c:\\users\\ujjaval\\anaconda3\\envs\\pythonproject\\lib\\site-packages (from requests<3,>=2.17.3->mlflow) (2024.2.2)\n",
      "Requirement already satisfied: greenlet!=0.4.17 in c:\\users\\ujjaval\\anaconda3\\envs\\pythonproject\\lib\\site-packages (from sqlalchemy<3,>=1.4.0->mlflow) (3.1.1)\n",
      "Requirement already satisfied: smmap<6,>=3.0.1 in c:\\users\\ujjaval\\anaconda3\\envs\\pythonproject\\lib\\site-packages (from gitdb<5,>=4.0.1->gitpython<4,>=2.1.0->mlflow) (5.0.0)\n"
     ]
    },
    {
     "name": "stderr",
     "output_type": "stream",
     "text": [
      "WARNING: Ignoring invalid distribution -andas (c:\\users\\ujjaval\\anaconda3\\envs\\pythonproject\\lib\\site-packages)\n",
      "WARNING: Ignoring invalid distribution -andas (c:\\users\\ujjaval\\anaconda3\\envs\\pythonproject\\lib\\site-packages)\n"
     ]
    },
    {
     "name": "stdout",
     "output_type": "stream",
     "text": [
      "Requirement already satisfied: psutil in c:\\users\\ujjaval\\anaconda3\\envs\\pythonproject\\lib\\site-packages (5.9.5)"
     ]
    },
    {
     "name": "stderr",
     "output_type": "stream",
     "text": [
      "WARNING: Ignoring invalid distribution -andas (c:\\users\\ujjaval\\anaconda3\\envs\\pythonproject\\lib\\site-packages)\n",
      "WARNING: Ignoring invalid distribution -andas (c:\\users\\ujjaval\\anaconda3\\envs\\pythonproject\\lib\\site-packages)\n"
     ]
    },
    {
     "name": "stdout",
     "output_type": "stream",
     "text": [
      "\n"
     ]
    }
   ],
   "source": [
    "!pip install mlflow pandas numpy scikit-learn python-dotenv\n",
    "!pip install psutil "
   ]
  },
  {
   "cell_type": "code",
   "execution_count": null,
   "metadata": {},
   "outputs": [
    {
     "name": "stdout",
     "output_type": "stream",
     "text": [
      "^C\n"
     ]
    }
   ],
   "source": [
    "# Start MLflow server in the background terminal\n",
    "!mlflow server --host 127.0.0.1 --port 5000 "
   ]
  },
  {
   "cell_type": "code",
   "execution_count": 11,
   "metadata": {},
   "outputs": [],
   "source": [
    "import mlflow\n",
    "import mlflow.sklearn\n",
    "import pandas as pd\n",
    "import numpy as np\n",
    "from sklearn.model_selection import train_test_split\n",
    "from sklearn.linear_model import LinearRegression\n",
    "from sklearn.preprocessing import StandardScaler\n",
    "import pickle\n"
   ]
  },
  {
   "cell_type": "code",
   "execution_count": 14,
   "metadata": {},
   "outputs": [
    {
     "data": {
      "text/plain": [
       "<Experiment: artifact_location='mlflow-artifacts:/173020914166262093', creation_time=1736411258277, experiment_id='173020914166262093', last_update_time=1736411258277, lifecycle_stage='active', name='telecom_price_prediction', tags={}>"
      ]
     },
     "execution_count": 14,
     "metadata": {},
     "output_type": "execute_result"
    }
   ],
   "source": [
    "# Set MLflow tracking URI\n",
    "mlflow.set_tracking_uri(\"http://127.0.0.1:5000\")\n",
    "\n",
    "# Create a new experiment\n",
    "mlflow.set_experiment(\"telecom_price_prediction\")"
   ]
  },
  {
   "cell_type": "markdown",
   "metadata": {},
   "source": [
    "## Configure MLFlow\n"
   ]
  },
  {
   "cell_type": "code",
   "execution_count": 15,
   "metadata": {},
   "outputs": [],
   "source": [
    "# Load and prepare data\n",
    "df = pd.read_csv('dataset.csv')\n",
    "X = df.drop('monthly_charges', axis=1)\n",
    "y = df['monthly_charges']\n",
    "\n",
    "# Split the data\n",
    "X_train, X_val, y_train, y_val = train_test_split(X, y, test_size=0.2, random_state=42)\n",
    "\n",
    "# Initialize the scaler\n",
    "scaler = StandardScaler()\n"
   ]
  },
  {
   "cell_type": "markdown",
   "metadata": {},
   "source": [
    "# Model Training"
   ]
  },
  {
   "cell_type": "code",
   "execution_count": 19,
   "metadata": {},
   "outputs": [],
   "source": [
    "def train_model():\n",
    "    # Set MLflow tracking URI\n",
    "    mlflow.set_tracking_uri(\"http://127.0.0.1:5000\")\n",
    "    \n",
    "    # Create a new experiment\n",
    "    experiment_name = \"telecom_price_prediction\"\n",
    "    mlflow.set_experiment(experiment_name)\n",
    "    \n",
    "    # Load and prepare data\n",
    "    df = pd.read_csv('dataset.csv')\n",
    "    X = df.drop('monthly_charges', axis=1)\n",
    "    y = df['monthly_charges']\n",
    "    \n",
    "    # Split the data\n",
    "    X_train, X_val, y_train, y_val = train_test_split(X, y, test_size=0.2, random_state=42)\n",
    "    \n",
    "    # Initialize the scaler\n",
    "    scaler = StandardScaler()\n",
    "    \n",
    "    # Start MLflow run\n",
    "    with mlflow.start_run(run_name=\"linear_regression_model\") as run:\n",
    "        # Log parameters\n",
    "        mlflow.log_param(\"model_type\", \"LinearRegression\")\n",
    "        mlflow.log_param(\"train_size\", len(X_train))\n",
    "        mlflow.log_param(\"test_size\", len(X_val))\n",
    "        \n",
    "        # Fit and transform the training data\n",
    "        X_train_scaled = scaler.fit_transform(X_train)\n",
    "        X_val_scaled = scaler.transform(X_val)\n",
    "        \n",
    "        # Create and train the model\n",
    "        model = LinearRegression()\n",
    "        model.fit(X_train_scaled, y_train)\n",
    "        \n",
    "        # Make predictions\n",
    "        y_pred = model.predict(X_val_scaled)\n",
    "        \n",
    "        # Calculate metrics\n",
    "        mse = np.mean((y_val - y_pred) ** 2)\n",
    "        rmse = np.sqrt(mse)\n",
    "        r2 = model.score(X_val_scaled, y_val)\n",
    "        \n",
    "        # Log metrics\n",
    "        mlflow.log_metric(\"rmse\", rmse)\n",
    "        mlflow.log_metric(\"r2\", r2)\n",
    "        mlflow.log_metric(\"mse\", mse)\n",
    "        \n",
    "        # Log feature importances\n",
    "        feature_importance = pd.DataFrame({\n",
    "            'Feature': X.columns,\n",
    "            'Coefficient': model.coef_\n",
    "        })\n",
    "        \n",
    "        # Log the model\n",
    "        mlflow.sklearn.log_model(model, \"model\")\n",
    "        \n",
    "        # Save the scaler with the model\n",
    "        with open('scaler.pkl', 'wb') as f:\n",
    "            pickle.dump(scaler, f)\n",
    "        mlflow.log_artifact('scaler.pkl')\n",
    "        \n",
    "        # Print results\n",
    "        print(\"\\nModel Performance Metrics:\")\n",
    "        print(f\"R-squared Score: {r2:.4f}\")\n",
    "        print(f\"Root Mean Square Error: ${rmse:.2f}\")\n",
    "        \n",
    "        # Return the run ID\n",
    "        return run.info.run_id"
   ]
  },
  {
   "cell_type": "markdown",
   "metadata": {},
   "source": [
    "# Monitoring function to track model predictions"
   ]
  },
  {
   "cell_type": "code",
   "execution_count": 20,
   "metadata": {},
   "outputs": [],
   "source": [
    "def predict_charges_from_csv(test_csv_path, run_id):\n",
    "    try:\n",
    "        with mlflow.start_run(run_id=run_id):\n",
    "            # Load the model from MLflow\n",
    "            model_uri = f\"runs:/{run_id}/model\"\n",
    "            model = mlflow.sklearn.load_model(model_uri)\n",
    "            \n",
    "            # Load the scaler\n",
    "            client = mlflow.tracking.MlflowClient()\n",
    "            scaler_path = client.download_artifacts(run_id, \"scaler.pkl\")\n",
    "            with open(scaler_path, 'rb') as f:\n",
    "                scaler = pickle.load(f)\n",
    "            \n",
    "            # Load test data\n",
    "            test_data = pd.read_csv(test_csv_path)\n",
    "            \n",
    "            # Scale the features\n",
    "            test_scaled = scaler.transform(test_data)\n",
    "            \n",
    "            # Make predictions\n",
    "            predictions = model.predict(test_scaled)\n",
    "            \n",
    "            # Add predictions to the test data\n",
    "            test_data['predicted_monthly_charges'] = predictions.round(2)\n",
    "            \n",
    "            # Save results\n",
    "            output_file = 'predictions_results.csv'\n",
    "            test_data.to_csv(output_file, index=False)\n",
    "            mlflow.log_artifact(output_file)\n",
    "            \n",
    "            print(f\"\\nPredictions have been saved to {output_file}\")\n",
    "            print(\"\\nFirst few predictions:\")\n",
    "            print(test_data[['internet_speed', 'num_services', 'predicted_monthly_charges']])\n",
    "            \n",
    "            return test_data\n",
    "            \n",
    "    except Exception as e:\n",
    "        print(f\"Error during prediction: {str(e)}\")\n",
    "        return None\n"
   ]
  },
  {
   "cell_type": "code",
   "execution_count": 21,
   "metadata": {},
   "outputs": [
    {
     "name": "stdout",
     "output_type": "stream",
     "text": [
      "\n",
      "Model Performance Metrics:\n",
      "R-squared Score: 0.9936\n",
      "Root Mean Square Error: $3.83\n",
      "MLflow Run ID: 3843abd066ad45fda8213acc56e11efe\n",
      "\n",
      "Predictions have been saved to predictions_results.csv\n",
      "\n",
      "First few predictions:\n",
      "    internet_speed  num_services  predicted_monthly_charges\n",
      "0            423.4             2                      85.65\n",
      "1            678.9             3                     132.91\n",
      "2            234.5             1                      52.46\n",
      "3            845.6             4                     181.68\n",
      "4            156.7             2                      43.24\n",
      "5            567.8             3                     114.18\n",
      "6            345.6             2                      82.62\n",
      "7            789.4             4                     165.97\n",
      "8            123.4             1                      29.30\n",
      "9            634.5             3                     129.46\n",
      "10           289.4             2                      68.69\n",
      "11           512.3             3                     104.74\n",
      "12           867.8             4                     180.91\n",
      "13           145.6             1                      41.01\n",
      "14           589.3             3                     112.19\n",
      "15           256.7             2                      54.21\n",
      "16           478.2             3                     107.13\n",
      "17           834.5             4                     174.88\n",
      "18           167.8             1                      44.00\n",
      "19           612.3             3                     115.46\n",
      "20           278.9             2                      66.03\n",
      "21           501.2             3                     102.04\n",
      "22           856.7             4                     178.22\n",
      "23           178.9             1                      47.17\n",
      "24           623.4             3                     118.29\n"
     ]
    }
   ],
   "source": [
    "# Train the model and get the run_id\n",
    "run_id = train_model()\n",
    "print(f\"MLflow Run ID: {run_id}\")\n",
    "\n",
    "# Make predictions using the run_id\n",
    "predictions = predict_charges_from_csv('test.csv', run_id)"
   ]
  },
  {
   "cell_type": "markdown",
   "metadata": {},
   "source": [
    "# Monitoring Config to track model predictions"
   ]
  },
  {
   "cell_type": "code",
   "execution_count": 3,
   "metadata": {},
   "outputs": [],
   "source": [
    "import json\n",
    "import datetime\n",
    "import time"
   ]
  },
  {
   "cell_type": "code",
   "execution_count": 4,
   "metadata": {},
   "outputs": [],
   "source": [
    "def setup_monitoring_config():\n",
    "    \"\"\"Create monitoring configuration\"\"\"\n",
    "    config = {\n",
    "        \"model_monitoring\": {\n",
    "            \"metrics\": {\n",
    "                \"accuracy_threshold\": 0.95,\n",
    "                \"latency_threshold\": 100,  # milliseconds\n",
    "                \"prediction_drift_threshold\": 0.1,\n",
    "                \"data_drift_threshold\": 0.05\n",
    "            },\n",
    "            \"monitoring_frequency\": {\n",
    "                \"performance\": \"hourly\",\n",
    "                \"drift\": \"daily\",\n",
    "                \"data_quality\": \"hourly\"\n",
    "            },\n",
    "            \"alerts\": {\n",
    "                \"email\": {\n",
    "                    \"enabled\": True,\n",
    "                    \"recipients\": [\"team@example.com\"]\n",
    "                },\n",
    "                \"slack\": {\n",
    "                    \"enabled\": False,\n",
    "                    \"channel\": \"#model-alerts\"\n",
    "                }\n",
    "            }\n",
    "        }\n",
    "    }\n",
    "    \n",
    "    # Save config\n",
    "    with open('monitoring_config.json', 'w') as f:\n",
    "        json.dump(config, f, indent=4)\n",
    "    \n",
    "    return config"
   ]
  },
  {
   "cell_type": "markdown",
   "metadata": {},
   "source": [
    "# Create Performance Monitoring Function"
   ]
  },
  {
   "cell_type": "code",
   "execution_count": 5,
   "metadata": {},
   "outputs": [],
   "source": [
    "def monitor_model_performance(model, test_data, actual_values, run_id):\n",
    "    \"\"\"Monitor model performance metrics\"\"\"\n",
    "    with mlflow.start_run(run_id=run_id, nested=True):\n",
    "        try:\n",
    "            start_time = time.time()\n",
    "            predictions = model.predict(test_data)\n",
    "            inference_time = (time.time() - start_time) * 1000  # Convert to ms\n",
    "            \n",
    "            # Calculate metrics\n",
    "            performance_metrics = {\n",
    "                \"accuracy\": model.score(test_data, actual_values),\n",
    "                \"latency\": inference_time,\n",
    "                \"timestamp\": datetime.datetime.now().isoformat()\n",
    "            }\n",
    "            \n",
    "            # Log metrics to MLflow\n",
    "            mlflow.log_metrics(performance_metrics)\n",
    "            \n",
    "            return performance_metrics\n",
    "            \n",
    "        except Exception as e:\n",
    "            print(f\"Error in performance monitoring: {str(e)}\")\n",
    "            return None"
   ]
  },
  {
   "cell_type": "markdown",
   "metadata": {},
   "source": [
    "# Data Drift Detection"
   ]
  },
  {
   "cell_type": "code",
   "execution_count": 6,
   "metadata": {},
   "outputs": [],
   "source": [
    "from scipy.stats import ks_2samp\n",
    "\n",
    "def monitor_data_drift(reference_data, current_data, config, run_id):\n",
    "    \"\"\"Monitor for data drift using Kolmogorov-Smirnov test\"\"\"\n",
    "    with mlflow.start_run(run_id=run_id, nested=True):\n",
    "        drift_metrics = {}\n",
    "        \n",
    "        for column in reference_data.columns:\n",
    "            # Perform KS test\n",
    "            ks_statistic, p_value = ks_2samp(\n",
    "                reference_data[column],\n",
    "                current_data[column]\n",
    "            )\n",
    "            \n",
    "            drift_metrics[f\"{column}_drift_score\"] = ks_statistic\n",
    "            drift_metrics[f\"{column}_p_value\"] = p_value\n",
    "            \n",
    "            # Log drift metrics\n",
    "            mlflow.log_metrics(drift_metrics)\n",
    "            \n",
    "            # Check for significant drift\n",
    "            if ks_statistic > config[\"model_monitoring\"][\"metrics\"][\"data_drift_threshold\"]:\n",
    "                print(f\"Warning: Significant drift detected in feature {column}\")\n",
    "                \n",
    "        return drift_metrics"
   ]
  },
  {
   "cell_type": "markdown",
   "metadata": {},
   "source": [
    "# Create Alert System"
   ]
  },
  {
   "cell_type": "code",
   "execution_count": 7,
   "metadata": {},
   "outputs": [],
   "source": [
    "def create_alert(alert_type, message, config, email_credentials):\n",
    "    \"\"\"Generate and send alerts based on monitoring results\"\"\"\n",
    "    \n",
    "    timestamp = datetime.datetime.now().strftime(\"%Y-%m-%d %H:%M:%S\")\n",
    "    \n",
    "    if alert_type == \"performance\":\n",
    "        subject = \"⚠️ Model Performance Alert\"\n",
    "    elif alert_type == \"drift\":\n",
    "        subject = \"🔄 Data Drift Alert\"\n",
    "    else:\n",
    "        subject = \"📊 Model Monitoring Alert\"\n",
    "    \n",
    "    # Format the message\n",
    "    formatted_message = f\"\"\"\n",
    "    ML Model Monitoring Alert\n",
    "    -------------------------\n",
    "    Type: {alert_type}\n",
    "    Time: {timestamp}\n",
    "    \n",
    "    Details:\n",
    "    {message}\n",
    "    \n",
    "    -------------------------\n",
    "    This is an automated alert from your ML Model Monitoring System.\n",
    "    \"\"\"\n",
    "    \n",
    "    if config[\"model_monitoring\"][\"alerts\"][\"email\"][\"enabled\"]:\n",
    "        send_email_alert(\n",
    "            subject=subject,\n",
    "            message=formatted_message,\n",
    "            recipient_email=email_credentials['recipient_email'],\n",
    "            sender_email=email_credentials['sender_email'],\n",
    "            app_password=email_credentials['app_password']\n",
    "        )\n",
    "\n",
    "\n",
    "\n",
    "import smtplib\n",
    "from email.mime.text import MIMEText\n",
    "from email.mime.multipart import MIMEMultipart\n",
    "\n",
    "\n",
    "def send_email_alert(subject, message, recipient_email, sender_email, app_password):\n",
    "    \"\"\"\n",
    "    Send email alerts using Gmail SMTP\n",
    "    \n",
    "    Parameters:\n",
    "    - subject: Email subject\n",
    "    - message: Email body\n",
    "    - recipient_email: Recipient's email address\n",
    "    - sender_email: Your Gmail address\n",
    "    - app_password: Your Gmail App Password\n",
    "    \"\"\"\n",
    "    try:\n",
    "        # Create message\n",
    "        msg = MIMEMultipart()\n",
    "        msg['From'] = sender_email\n",
    "        msg['To'] = recipient_email\n",
    "        msg['Subject'] = subject\n",
    "\n",
    "        # Add body\n",
    "        msg.attach(MIMEText(message, 'plain'))\n",
    "\n",
    "        # Create SMTP session\n",
    "        server = smtplib.SMTP('smtp.gmail.com', 587)\n",
    "        server.starttls()\n",
    "        \n",
    "        # Login\n",
    "        server.login(sender_email, app_password)\n",
    "        \n",
    "        # Send email\n",
    "        server.send_message(msg)\n",
    "        \n",
    "        # Close session\n",
    "        server.quit()\n",
    "        \n",
    "        print(\"Alert email sent successfully!\")\n",
    "        \n",
    "    except Exception as e:\n",
    "        print(f\"Error sending email: {str(e)}\")"
   ]
  },
  {
   "cell_type": "code",
   "execution_count": 8,
   "metadata": {},
   "outputs": [],
   "source": [
    "def test_email_alert():\n",
    "    # Your Gmail credentials\n",
    "    SENDER_EMAIL = \"testingalert.notebook@gmail.com\"  # Replace with your Gmail\n",
    "    APP_PASSWORD = 'xynr gfej pexz nreq'     # Replace with your app password\n",
    "    RECIPIENT_EMAIL = \"testingalert.notebook@gmail.com\" # Replace with recipient email\n",
    "\n",
    "    # Test message\n",
    "    subject = \"ML Model Monitoring Test Alert\"\n",
    "    message = \"\"\"\n",
    "    This is a test alert from your ML Model Monitoring System.\n",
    "    \n",
    "    Test Details:\n",
    "    - Timestamp: {}\n",
    "    - System: Model Monitoring\n",
    "    - Status: Test Alert\n",
    "    \n",
    "    If you received this email, your alert system is working correctly.\n",
    "    \"\"\".format(datetime.datetime.now())\n",
    "\n",
    "    # Send test email\n",
    "    send_email_alert(\n",
    "        subject=subject,\n",
    "        message=message,\n",
    "        recipient_email=RECIPIENT_EMAIL,\n",
    "        sender_email=SENDER_EMAIL,\n",
    "        app_password=APP_PASSWORD\n",
    "    )"
   ]
  },
  {
   "cell_type": "code",
   "execution_count": 45,
   "metadata": {},
   "outputs": [
    {
     "name": "stdout",
     "output_type": "stream",
     "text": [
      "Alert email sent successfully!\n"
     ]
    }
   ],
   "source": [
    "test_email_alert()"
   ]
  },
  {
   "cell_type": "code",
   "execution_count": 9,
   "metadata": {},
   "outputs": [],
   "source": [
    "def run_monitoring_pipeline(model, reference_data, run_id, email_credentials):\n",
    "    \"\"\"\n",
    "    Main monitoring pipeline for ML model\n",
    "    \n",
    "    Parameters:\n",
    "    - model: Trained ML model\n",
    "    - reference_data: Original training data for drift comparison\n",
    "    - run_id: MLflow run ID\n",
    "    - email_credentials: Dictionary containing email configuration\n",
    "    \"\"\"\n",
    "    \n",
    "    # Load configuration\n",
    "    config = setup_monitoring_config()\n",
    "    \n",
    "    print(f\"Starting monitoring pipeline for model run: {run_id}\")\n",
    "    print(\"Monitoring configuration loaded successfully\")\n",
    "    \n",
    "    while True:\n",
    "        try:\n",
    "            current_timestamp = datetime.datetime.now().strftime(\"%Y-%m-%d %H:%M:%S\")\n",
    "            print(f\"\\nMonitoring cycle started at: {current_timestamp}\")\n",
    "            \n",
    "            # 1. Load current data (this would be your production data)\n",
    "            try:\n",
    "                current_data = pd.read_csv('test.csv')\n",
    "                print(f\"Loaded current data: {len(current_data)} records\")\n",
    "            except Exception as e:\n",
    "                error_msg = f\"Error loading current data: {str(e)}\"\n",
    "                create_alert(\"error\", error_msg, config, email_credentials)\n",
    "                raise Exception(error_msg)\n",
    "\n",
    "            # 2. Monitor Performance\n",
    "            with mlflow.start_run(run_id=run_id, nested=True) as performance_run:\n",
    "                print(\"Monitoring model performance...\")\n",
    "                \n",
    "                performance_metrics = {\n",
    "                    'timestamp': current_timestamp,\n",
    "                    'prediction_count': len(current_data),\n",
    "                    'latency': []\n",
    "                }\n",
    "                \n",
    "                # Measure prediction latency\n",
    "                start_time = time.time()\n",
    "                predictions = model.predict(current_data.drop('monthly_charges', axis=1, errors='ignore'))\n",
    "                latency = (time.time() - start_time) * 1000  # Convert to milliseconds\n",
    "                performance_metrics['latency'] = latency\n",
    "                \n",
    "                # Log performance metrics\n",
    "                mlflow.log_metrics({\n",
    "                    'prediction_latency_ms': latency,\n",
    "                    'prediction_count': performance_metrics['prediction_count']\n",
    "                })\n",
    "                \n",
    "                # Check latency threshold\n",
    "                if latency > config['model_monitoring']['metrics']['latency_threshold']:\n",
    "                    alert_msg = f\"High prediction latency detected: {latency:.2f}ms (threshold: {config['model_monitoring']['metrics']['latency_threshold']}ms)\"\n",
    "                    create_alert(\"performance\", alert_msg, config, email_credentials)\n",
    "\n",
    "            # 3. Monitor Data Drift\n",
    "            with mlflow.start_run(run_id=run_id, nested=True) as drift_run:\n",
    "                print(\"Monitoring data drift...\")\n",
    "                drift_metrics = {}\n",
    "                \n",
    "                for column in reference_data.columns:\n",
    "                    if column in current_data.columns:\n",
    "                        # Calculate KS statistic\n",
    "                        ks_statistic, p_value = ks_2samp(\n",
    "                            reference_data[column],\n",
    "                            current_data[column]\n",
    "                        )\n",
    "                        \n",
    "                        drift_metrics[f\"{column}_drift\"] = ks_statistic\n",
    "                        drift_metrics[f\"{column}_drift_pvalue\"] = p_value\n",
    "                        \n",
    "                        # Check for significant drift\n",
    "                        if ks_statistic > config['model_monitoring']['metrics']['data_drift_threshold']:\n",
    "                            alert_msg = f\"Significant drift detected in feature {column} (KS statistic: {ks_statistic:.3f})\"\n",
    "                            create_alert(\"drift\", alert_msg, config, email_credentials)\n",
    "                \n",
    "                # Log drift metrics\n",
    "                mlflow.log_metrics(drift_metrics)\n",
    "\n",
    "            # 4. Data Quality Checks\n",
    "            with mlflow.start_run(run_id=run_id, nested=True) as quality_run:\n",
    "                print(\"Performing data quality checks...\")\n",
    "                quality_metrics = {\n",
    "                    'missing_values': current_data.isnull().sum().sum(),\n",
    "                    'negative_values': (current_data < 0).sum().sum()\n",
    "                }\n",
    "                \n",
    "                # Log quality metrics\n",
    "                mlflow.log_metrics(quality_metrics)\n",
    "                \n",
    "                # Check for data quality issues\n",
    "                if quality_metrics['missing_values'] > 0:\n",
    "                    alert_msg = f\"Missing values detected: {quality_metrics['missing_values']} values\"\n",
    "                    create_alert(\"data_quality\", alert_msg, config, email_credentials)\n",
    "\n",
    "            # 5. Prediction Distribution Monitoring\n",
    "            with mlflow.start_run(run_id=run_id, nested=True) as pred_run:\n",
    "                print(\"Monitoring prediction distribution...\")\n",
    "                \n",
    "                pred_metrics = {\n",
    "                    'pred_mean': np.mean(predictions),\n",
    "                    'pred_std': np.std(predictions),\n",
    "                    'pred_min': np.min(predictions),\n",
    "                    'pred_max': np.max(predictions)\n",
    "                }\n",
    "                \n",
    "                # Log prediction distribution metrics\n",
    "                mlflow.log_metrics(pred_metrics)\n",
    "                \n",
    "                # Check for prediction distribution anomalies\n",
    "                if pred_metrics['pred_std'] > 2 * reference_data['monthly_charges'].std():\n",
    "                    alert_msg = \"Unusual prediction distribution detected\"\n",
    "                    create_alert(\"prediction\", alert_msg, config, email_credentials)\n",
    "\n",
    "            print(f\"Monitoring cycle completed successfully\")\n",
    "            print(f\"Next check in {config['model_monitoring']['monitoring_frequency']['performance']} seconds\")\n",
    "            \n",
    "            # Wait for next monitoring interval\n",
    "            if config['model_monitoring']['monitoring_frequency']['performance'] == 'hourly':\n",
    "                time.sleep(3600)  # 1 hour\n",
    "            else:\n",
    "                time.sleep(86400)  # 1 day\n",
    "                \n",
    "        except Exception as e:\n",
    "            error_msg = f\"Error in monitoring pipeline: {str(e)}\"\n",
    "            print(error_msg)\n",
    "            create_alert(\"error\", error_msg, config, email_credentials)\n",
    "            time.sleep(300) "
   ]
  },
  {
   "cell_type": "code",
   "execution_count": 12,
   "metadata": {},
   "outputs": [],
   "source": [
    "import mlflow\n",
    "import mlflow.sklearn"
   ]
  },
  {
   "cell_type": "code",
   "execution_count": 17,
   "metadata": {},
   "outputs": [
    {
     "data": {
      "text/plain": [
       "<Experiment: artifact_location='mlflow-artifacts:/173020914166262093', creation_time=1736411258277, experiment_id='173020914166262093', last_update_time=1736411258277, lifecycle_stage='active', name='telecom_price_prediction', tags={}>"
      ]
     },
     "execution_count": 17,
     "metadata": {},
     "output_type": "execute_result"
    }
   ],
   "source": [
    "# Set MLflow tracking URI\n",
    "mlflow.set_tracking_uri(\"http://127.0.0.1:5000\")\n",
    "\n",
    "# Create a new experiment\n",
    "mlflow.set_experiment(\"telecom_price_prediction\")"
   ]
  },
  {
   "cell_type": "code",
   "execution_count": 18,
   "metadata": {},
   "outputs": [],
   "source": [
    "run_id = '3843abd066ad45fda8213acc56e11efe'\n",
    "model_uri = f\"runs:/{run_id}/model\"\n",
    "model = mlflow.sklearn.load_model(model_uri)"
   ]
  },
  {
   "cell_type": "code",
   "execution_count": null,
   "metadata": {},
   "outputs": [
    {
     "name": "stdout",
     "output_type": "stream",
     "text": [
      "Starting monitoring pipeline for model run: 3843abd066ad45fda8213acc56e11efe\n",
      "Monitoring configuration loaded successfully\n",
      "\n",
      "Monitoring cycle started at: 2025-01-09 15:41:51\n",
      "Loaded current data: 25 records\n",
      "Monitoring model performance...\n"
     ]
    },
    {
     "name": "stderr",
     "output_type": "stream",
     "text": [
      "c:\\Users\\Ujjaval\\anaconda3\\envs\\pythonProject\\lib\\site-packages\\sklearn\\base.py:432: UserWarning: X has feature names, but LinearRegression was fitted without feature names\n",
      "  warnings.warn(\n"
     ]
    },
    {
     "name": "stdout",
     "output_type": "stream",
     "text": [
      "Monitoring data drift...\n",
      "Alert email sent successfully!\n",
      "Alert email sent successfully!\n",
      "Alert email sent successfully!\n",
      "Alert email sent successfully!\n",
      "Performing data quality checks...\n",
      "Monitoring prediction distribution...\n",
      "Alert email sent successfully!\n",
      "Monitoring cycle completed successfully\n",
      "Next check in hourly seconds\n"
     ]
    }
   ],
   "source": [
    "# Usage example:\n",
    "if __name__ == \"__main__\":\n",
    "    try:\n",
    "        # Email credentials\n",
    "        email_credentials = {\n",
    "            'sender_email': 'testingalert.notebook@gmail.com',\n",
    "            'app_password': 'xynr gfej pexz nreq',\n",
    "            'recipient_email': 'testingalert.notebook@gmail.com'\n",
    "        }\n",
    "\n",
    "        # Load your model and reference data\n",
    "        reference_data = pd.read_csv('dataset.csv')\n",
    "        \n",
    "        # Get your MLflow run ID\n",
    "        run_id = '3843abd066ad45fda8213acc56e11efe'  # Replace with actual run ID\n",
    "        \n",
    "        # Start the monitoring pipeline\n",
    "        run_monitoring_pipeline(model, reference_data, run_id, email_credentials)\n",
    "        \n",
    "    except Exception as e:\n",
    "        print(f\"Failed to start monitoring pipeline: {str(e)}\")"
   ]
  },
  {
   "cell_type": "markdown",
   "metadata": {},
   "source": [
    "![alt text](image.png)"
   ]
  },
  {
   "attachments": {
    "image.png": {
     "image/png": "[encoded data removed]"
    }
   },
   "cell_type": "markdown",
   "metadata": {},
   "source": [
    "![image.png](attachment:image.png)"
   ]
  },
  {
   "cell_type": "code",
   "execution_count": null,
   "metadata": {},
   "outputs": [],
   "source": []
  },
  {
   "cell_type": "markdown",
   "metadata": {},
   "source": []
  }
 ],
 "metadata": {
  "kernelspec": {
   "display_name": "pythonProject",
   "language": "python",
   "name": "python3"
  },
  "language_info": {
   "codemirror_mode": {
    "name": "ipython",
    "version": 3
   },
   "file_extension": ".py",
   "mimetype": "text/x-python",
   "name": "python",
   "nbconvert_exporter": "python",
   "pygments_lexer": "ipython3",
   "version": "3.10.14"
  }
 },
 "nbformat": 4,
 "nbformat_minor": 2
}
