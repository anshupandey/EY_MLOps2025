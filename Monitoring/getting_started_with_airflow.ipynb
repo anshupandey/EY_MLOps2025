{
 "cells": [
  {
   "cell_type": "markdown",
   "metadata": {},
   "source": [
    "## Getting Started with AIrflow\n",
    "\n",
    "\n",
    "**What it does?**\n",
    "- Monitoring and Automation\n",
    "\n",
    "**Key Concepts**\n",
    "\n",
    "- DAG (Directed Acyclic Graph): A workflow -- a collection of tasks (task 1 ---> task 2 ---> task 3)\n",
    "- Task: A unit of work in DAG - A process step - execute a code to train a model, a code to load data\n",
    "- Operator: A template for tasks, e.g. pythonoperator: can be used to execute python tasks, bashoperator: can be used to execute bash tasks\n",
    "- Scheduler: Triggers which can run DAG based on schedules.\n",
    "- Web UI: UI to monitor DAGs"
   ]
  },
  {
   "cell_type": "markdown",
   "metadata": {},
   "source": [
    "### A Hello World Task"
   ]
  },
  {
   "cell_type": "code",
   "execution_count": null,
   "metadata": {},
   "outputs": [],
   "source": [
    "# cd ~/airflow\n",
    "# mkdir dags"
   ]
  },
  {
   "cell_type": "code",
   "execution_count": 9,
   "metadata": {},
   "outputs": [
    {
     "name": "stdout",
     "output_type": "stream",
     "text": [
      "Overwriting /home/labuser/airflow/dags/pipeline1.py\n"
     ]
    }
   ],
   "source": [
    "%%writefile ~/airflow/dags/pipeline1.py\n",
    "from airflow import DAG\n",
    "from airflow.operators.python import PythonOperator\n",
    "from datetime import datetime\n",
    "\n",
    "def task1():\n",
    "    print(\"Hello from EY team\")\n",
    "\n",
    "with DAG(dag_id='test133',schedule=None, start_date=datetime(2025,3,7),catchup=False, tags=['anshu']) as dag:\n",
    "    mytask = PythonOperator(task_id='task1',python_callable=task1)"
   ]
  },
  {
   "cell_type": "code",
   "execution_count": null,
   "metadata": {},
   "outputs": [],
   "source": []
  },
  {
   "cell_type": "code",
   "execution_count": null,
   "metadata": {},
   "outputs": [],
   "source": []
  }
 ],
 "metadata": {
  "kernelspec": {
   "display_name": "base",
   "language": "python",
   "name": "python3"
  },
  "language_info": {
   "codemirror_mode": {
    "name": "ipython",
    "version": 3
   },
   "file_extension": ".py",
   "mimetype": "text/x-python",
   "name": "python",
   "nbconvert_exporter": "python",
   "pygments_lexer": "ipython3",
   "version": "3.12.7"
  }
 },
 "nbformat": 4,
 "nbformat_minor": 2
}
