{
 "cells": [
  {
   "cell_type": "code",
   "execution_count": 2,
   "metadata": {},
   "outputs": [],
   "source": [
    "import mlflow\n",
    "import mlflow.pyfunc\n",
    "import numpy as np\n",
    "import pandas as pd\n"
   ]
  },
  {
   "cell_type": "code",
   "execution_count": 3,
   "metadata": {},
   "outputs": [],
   "source": [
    "model_name=\"CPM001\"\n",
    "alias = 'stagging'\n",
    "\n",
    "model = mlflow.pyfunc.load_model(f\"models:/{model_name}@{alias}\")"
   ]
  },
  {
   "cell_type": "code",
   "execution_count": 4,
   "metadata": {},
   "outputs": [
    {
     "data": {
      "text/plain": [
       "['encoder__Geography_Germany': double (required), 'encoder__Geography_Spain': double (required), 'encoder__Gender_Male': double (required), 'scaler__CreditScore': double (required), 'scaler__Age': double (required), 'scaler__Balance': double (required), 'scaler__NumOfProducts': double (required), 'remainder__IsActiveMember': double (required)]"
      ]
     },
     "execution_count": 4,
     "metadata": {},
     "output_type": "execute_result"
    }
   ],
   "source": [
    "model.metadata.get_input_schema()"
   ]
  },
  {
   "cell_type": "code",
   "execution_count": 5,
   "metadata": {},
   "outputs": [
    {
     "data": {
      "text/plain": [
       "array([0])"
      ]
     },
     "execution_count": 5,
     "metadata": {},
     "output_type": "execute_result"
    }
   ],
   "source": [
    "input_data = pd.DataFrame({'encoder__Geography_Germany': [1], \n",
    "                           'encoder__Geography_Spain': [0], 'encoder__Gender_Male': [1], \n",
    "                           'scaler__CreditScore': [0.444], 'scaler__Age': [0.554], \n",
    "                           'scaler__Balance': [0.98], 'scaler__NumOfProducts': [0.45], 'remainder__IsActiveMember':[0]})\n",
    "\n",
    "model.predict(input_data)"
   ]
  },
  {
   "cell_type": "code",
   "execution_count": null,
   "metadata": {},
   "outputs": [],
   "source": []
  }
 ],
 "metadata": {
  "kernelspec": {
   "display_name": "base",
   "language": "python",
   "name": "python3"
  },
  "language_info": {
   "codemirror_mode": {
    "name": "ipython",
    "version": 3
   },
   "file_extension": ".py",
   "mimetype": "text/x-python",
   "name": "python",
   "nbconvert_exporter": "python",
   "pygments_lexer": "ipython3",
   "version": "3.12.7"
  }
 },
 "nbformat": 4,
 "nbformat_minor": 2
}
