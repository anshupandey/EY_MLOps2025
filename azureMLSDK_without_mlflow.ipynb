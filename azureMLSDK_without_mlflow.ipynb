{
 "cells": [
  {
   "cell_type": "markdown",
   "metadata": {},
   "source": [
    "## WOrking with Azure Machine Learning without MLflow"
   ]
  },
  {
   "cell_type": "code",
   "execution_count": null,
   "metadata": {},
   "outputs": [],
   "source": [
    "# pip install azure-ai-ml"
   ]
  },
  {
   "cell_type": "markdown",
   "metadata": {},
   "source": [
    "#### Working with workspace and client"
   ]
  },
  {
   "cell_type": "code",
   "execution_count": 29,
   "metadata": {},
   "outputs": [],
   "source": [
    "# details\n",
    "subscritpion_id=\"53eb2592-79d7-4d14-a92a-b97966ccf1c9\"\n",
    "resource_group=\"bdc\"\n",
    "workspace=\"ey2025\""
   ]
  },
  {
   "cell_type": "code",
   "execution_count": 30,
   "metadata": {},
   "outputs": [],
   "source": [
    "# authenticate\n",
    "from azure.identity import InteractiveBrowserCredential\n",
    "credential = InteractiveBrowserCredential(tenant_id=\"13a86542-2185-4187-8e07-7512f5525c55\")\n"
   ]
  },
  {
   "cell_type": "code",
   "execution_count": 31,
   "metadata": {},
   "outputs": [
    {
     "name": "stderr",
     "output_type": "stream",
     "text": [
      "Overriding of current TracerProvider is not allowed\n",
      "Overriding of current LoggerProvider is not allowed\n",
      "Overriding of current MeterProvider is not allowed\n",
      "Attempting to instrument while already instrumented\n",
      "Attempting to instrument while already instrumented\n",
      "Attempting to instrument while already instrumented\n",
      "Attempting to instrument while already instrumented\n"
     ]
    }
   ],
   "source": [
    "# create ML client\n",
    "from azure.ai.ml import MLClient\n",
    "ml_client = MLClient(credential=credential,subscription_id=subscritpion_id,\n",
    "                     resource_group_name=resource_group,workspace_name=workspace)"
   ]
  },
  {
   "cell_type": "code",
   "execution_count": 32,
   "metadata": {},
   "outputs": [],
   "source": [
    "# access the workspace\n",
    "from azure.ai.ml.entities import Workspace\n",
    "try:\n",
    "    ws = ml_client.workspace.get(workspace)\n",
    "    print(\"Workspace already exists\")\n",
    "except:\n",
    "    ws = Workspace(name=workspace,location='centralindia')\n",
    "    ws = ml_client.workspaces.begin_create(ws)"
   ]
  },
  {
   "cell_type": "markdown",
   "metadata": {},
   "source": [
    "### Creating a compute"
   ]
  },
  {
   "cell_type": "code",
   "execution_count": 33,
   "metadata": {},
   "outputs": [
    {
     "name": "stdout",
     "output_type": "stream",
     "text": [
      "you already have a compute named mlcompute26-anshu we will reuse it\n"
     ]
    }
   ],
   "source": [
    "from azure.ai.ml.entities import ComputeInstance\n",
    "\n",
    "name = 'mlcompute26-anshu'\n",
    "\n",
    "try:\n",
    "    amlcompute = ml_client.compute.get(name)\n",
    "    print(f\"you already have a compute named {name} we will reuse it\")\n",
    "except:\n",
    "    print('creating a new compute target')\n",
    "    amlcompute = ComputeInstance(\n",
    "        name=name,\n",
    "        type='amlcompute',\n",
    "        size='STANDARD_DS11_V2',\n",
    "        idle_time_before_shutdown=120,\n",
    "        \n",
    "    )\n",
    "\n",
    "    amlcompute = ml_client.compute.begin_create_or_update(amlcompute)"
   ]
  },
  {
   "cell_type": "code",
   "execution_count": 34,
   "metadata": {},
   "outputs": [],
   "source": [
    "import os\n",
    "os.makedirs(\"AzureML\",exist_ok=True)\n",
    "\n",
    "!wget -q -P AzureML https://raw.githubusercontent.com/MicrosoftLearning/mslearn-mlops/refs/heads/main/production/data/diabetes-prod.csv\n"
   ]
  },
  {
   "cell_type": "code",
   "execution_count": 35,
   "metadata": {},
   "outputs": [
    {
     "name": "stdout",
     "output_type": "stream",
     "text": [
      "Overwriting AzureML/diabetes-training.py\n"
     ]
    }
   ],
   "source": [
    "%%writefile AzureML/diabetes-training.py\n",
    "\n",
    "import pandas as pd\n",
    "import numpy as np\n",
    "from sklearn.model_selection import train_test_split\n",
    "from sklearn.linear_model import LogisticRegression\n",
    "from sklearn.metrics import roc_auc_score\n",
    "from sklearn.metrics import roc_curve\n",
    "\n",
    "# load the diabetes dataset\n",
    "print(\"Loading Data...\")\n",
    "diabetes = pd.read_csv('diabetes-prod.csv')\n",
    "\n",
    "# separate features and labels\n",
    "X, y = diabetes[['Pregnancies','PlasmaGlucose','DiastolicBloodPressure','TricepsThickness','SerumInsulin','BMI','DiabetesPedigree','Age']].values, diabetes['Diabetic'].values\n",
    "\n",
    "# split data into training set and test set\n",
    "X_train, X_test, y_train, y_test = train_test_split(X, y, test_size=0.30, random_state=0)\n",
    "\n",
    "\n",
    "\n",
    "# set regularization hyperparameter\n",
    "reg = 0.01\n",
    "\n",
    "# train a logistic regression model\n",
    "print('Training a logistic regression model with regularization rate of', reg)\n",
    "model = LogisticRegression(C=1/reg, solver=\"liblinear\").fit(X_train, y_train)\n",
    "\n",
    "# calculate accuracy\n",
    "y_hat = model.predict(X_test)\n",
    "acc = np.average(y_hat == y_test)\n",
    "print('Accuracy:', acc)\n",
    "\n",
    "# calculate AUC\n",
    "y_scores = model.predict_proba(X_test)\n",
    "auc = roc_auc_score(y_test,y_scores[:,1])\n",
    "print('AUC: ' + str(auc))\n",
    "\n",
    "import os\n",
    "import joblib\n",
    "\n",
    "os.makedirs('outputs', exist_ok=True)\n",
    "#file = open(\"outputs/version.txt\",\"w\")\n",
    "#file.write(str(joblib.__version__))\n",
    "#file.close()\n",
    "joblib.dump(model, open(\"outputs/model.pkl\",\"wb\"))"
   ]
  },
  {
   "cell_type": "markdown",
   "metadata": {},
   "source": [
    "### Run a job on a compute in Azure Machine Learning"
   ]
  },
  {
   "cell_type": "code",
   "execution_count": 36,
   "metadata": {},
   "outputs": [
    {
     "name": "stdout",
     "output_type": "stream",
     "text": [
      "creation_context:\n",
      "  created_at: '2021-12-15T02:18:23.826902+00:00'\n",
      "  created_by: Microsoft\n",
      "  created_by_type: User\n",
      "  last_modified_at: '2021-12-15T02:18:23.826902+00:00'\n",
      "  last_modified_by: Microsoft\n",
      "  last_modified_by_type: User\n",
      "id: azureml:/subscriptions/53eb2592-79d7-4d14-a92a-b97966ccf1c9/resourceGroups/bdc/providers/Microsoft.MachineLearningServices/workspaces/ey2025/environments/AzureML-sklearn-1.0-ubuntu20.04-py38-cpu\n",
      "latest_version: '36'\n",
      "name: AzureML-sklearn-1.0-ubuntu20.04-py38-cpu\n",
      "tags: {}\n",
      "\n",
      "creation_context:\n",
      "  created_at: '2021-07-14T00:48:00.493289+00:00'\n",
      "  created_by: Microsoft\n",
      "  created_by_type: User\n",
      "  last_modified_at: '2021-07-14T00:48:00.493289+00:00'\n",
      "  last_modified_by: Microsoft\n",
      "  last_modified_by_type: User\n",
      "id: azureml:/subscriptions/53eb2592-79d7-4d14-a92a-b97966ccf1c9/resourceGroups/bdc/providers/Microsoft.MachineLearningServices/workspaces/ey2025/environments/AzureML-sklearn-0.24-ubuntu18.04-py37-cpu\n",
      "latest_version: '49'\n",
      "name: AzureML-sklearn-0.24-ubuntu18.04-py37-cpu\n",
      "tags: {}\n",
      "\n"
     ]
    }
   ],
   "source": [
    "for env in ml_client.environments.list():\n",
    "    if 'sklearn' in env.name:\n",
    "        print(env)"
   ]
  },
  {
   "cell_type": "code",
   "execution_count": 37,
   "metadata": {},
   "outputs": [
    {
     "name": "stderr",
     "output_type": "stream",
     "text": [
      "\u001b[32mUploading AzureML (1.04 MBs): 100%|██████████| 1036853/1036853 [00:00<00:00, 1719387.08it/s]\n",
      "\u001b[39m\n",
      "\n"
     ]
    },
    {
     "name": "stdout",
     "output_type": "stream",
     "text": [
      "monitor your job at  https://ml.azure.com/runs/placid_band_qzpj48krrh?wsid=/subscriptions/53eb2592-79d7-4d14-a92a-b97966ccf1c9/resourcegroups/bdc/workspaces/ey2025&tid=13a86542-2185-4187-8e07-7512f5525c55\n"
     ]
    }
   ],
   "source": [
    "from azure.ai.ml import command\n",
    "\n",
    "job = command(code=\"./AzureML\",\n",
    "              command=\"python diabetes-training.py\",\n",
    "              environment=\"AzureML-sklearn-1.0-ubuntu20.04-py38-cpu@latest\",\n",
    "              compute='mlcompute26-anshu',\n",
    "              display_name='diabetes-train',\n",
    "              experiment_name='diabetes-training')\n",
    "\n",
    "returned_job = ml_client.create_or_update(job)\n",
    "aml_url = returned_job.studio_url\n",
    "print(\"monitor your job at \",aml_url)"
   ]
  },
  {
   "cell_type": "markdown",
   "metadata": {},
   "source": [
    "## Register Model"
   ]
  },
  {
   "cell_type": "code",
   "execution_count": 38,
   "metadata": {},
   "outputs": [
    {
     "data": {
      "text/plain": [
       "'azureml://subscriptions/53eb2592-79d7-4d14-a92a-b97966ccf1c9/resourceGroups/bdc/workspaces/ey2025/datastores/workspaceartifactstore/paths/ExperimentRun/dcid.placid_band_qzpj48krrh/outputs'"
      ]
     },
     "execution_count": 38,
     "metadata": {},
     "output_type": "execute_result"
    }
   ],
   "source": [
    "from azure.ai.ml.entities import Model\n",
    "from azure.ai.ml.constants import AssetTypes\n",
    "\n",
    "path = f\"azureml://jobs/{returned_job.name}/outputs/artifacts/outputs\"\n",
    "file_model = Model(path=path,type=AssetTypes.CUSTOM_MODEL,\n",
    "                   name='diabetes_model')\n",
    "\n",
    "out = ml_client.models.create_or_update(file_model)\n",
    "out.path"
   ]
  },
  {
   "cell_type": "markdown",
   "metadata": {},
   "source": [
    "# Deploy the model"
   ]
  },
  {
   "cell_type": "code",
   "execution_count": 40,
   "metadata": {},
   "outputs": [],
   "source": [
    "from azure.ai.ml.entities import ManagedOnlineEndpoint\n",
    "\n",
    "import datetime\n",
    "ep_name = 'diabetes-endpoint'\n",
    "ep = ManagedOnlineEndpoint(name=ep_name,auth_mode=\"key\")\n",
    "\n",
    "ep_result = ml_client.online_endpoints.begin_create_or_update(ep).result()"
   ]
  },
  {
   "cell_type": "code",
   "execution_count": 41,
   "metadata": {},
   "outputs": [],
   "source": [
    "ep = ml_client.online_endpoints.get(name=ep_name)"
   ]
  },
  {
   "cell_type": "code",
   "execution_count": 42,
   "metadata": {},
   "outputs": [],
   "source": [
    "os.makedirs(\"AzureML/score\", exist_ok=True)"
   ]
  },
  {
   "cell_type": "code",
   "execution_count": 43,
   "metadata": {},
   "outputs": [
    {
     "name": "stdout",
     "output_type": "stream",
     "text": [
      "Writing AzureML/score/score.py\n"
     ]
    }
   ],
   "source": [
    "%%writefile AzureML/score/score.py\n",
    "\n",
    "import os\n",
    "import joblib\n",
    "import json \n",
    "import logging\n",
    "import numpy\n",
    "def init():\n",
    "    global model\n",
    "    path = os.path.join(os.getenv(\"AZUREML_MODEL_DIR\"),\"outputs/model.pkl\") # AZUREML_MODEL_DIR = ./azureml-models/MODEL_NAME/VERSION\n",
    "    #logging.info(path)\n",
    "    model = joblib.load(path)\n",
    "    logging.info(\"initialization completed\")\n",
    "\n",
    "def run(raw_data):\n",
    "    logging.info(\"model: request received\")\n",
    "    data = json.loads(raw_data)[\"data\"]\n",
    "    data = numpy.array(data)\n",
    "    result = model.predict(data)\n",
    "    logging.info(\"request procsesed\")\n",
    "    return result.tolist()"
   ]
  },
  {
   "cell_type": "code",
   "execution_count": 45,
   "metadata": {},
   "outputs": [
    {
     "name": "stdout",
     "output_type": "stream",
     "text": [
      "Writing AzureML/score/conda.yml\n"
     ]
    }
   ],
   "source": [
    "%%writefile AzureML/score/conda.yml\n",
    "name: model-env\n",
    "channels:\n",
    "  - conda-forge\n",
    "dependencies:\n",
    "  - python=3.8\n",
    "  - numpy=1.21.0\n",
    "  - pip=21.3.1\n",
    "  - scikit-learn=1.0.0\n",
    "  - scipy=1.7.1\n",
    "  - numpy\n",
    "  - pandas==1.3.0\n",
    "  - pip:\n",
    "    - azureml-defaults==1.51.0\n",
    "    - applicationinsights\n",
    "    - inference-schema[numpy-support]==1.5\n",
    "    - joblib==1.2.0"
   ]
  },
  {
   "cell_type": "code",
   "execution_count": 48,
   "metadata": {},
   "outputs": [],
   "source": [
    "# deployment configurations\n",
    "from azure.ai.ml.entities import Model,ManagedOnlineDeployment, CodeConfiguration\n",
    "from azure.ai.ml.constants import AssetTypes\n",
    "\n",
    "# configure the environment\n",
    "from azure.ai.ml.entities import Environment\n",
    "env = Environment(conda_file=\"AzureML/score/conda.yml\",\n",
    "                  image=\"mcr.microsoft.com/azureml/openmpi4.1.0-ubuntu20.04:20230608.v1\")\n",
    "\n",
    "# configure an inference pipeline with a scoring script\n",
    "code_config = CodeConfiguration(code=\"AzureML/score\",\n",
    "                                scoring_script='score.py')\n",
    "\n",
    "model = ml_client.models.get(name=out.name, version=out.version)\n",
    "\n",
    "# define the online deployment\n",
    "blue_deployment = ManagedOnlineDeployment(name='blue',\n",
    "                                          endpoint_name=ep_name,\n",
    "                                          model=model,\n",
    "                                          instance_type=\"STANDARD_F4s_v2\",\n",
    "                                          instance_count=1,\n",
    "                                          environment=env,\n",
    "                                          code_configuration=code_config)"
   ]
  },
  {
   "cell_type": "code",
   "execution_count": 49,
   "metadata": {},
   "outputs": [
    {
     "name": "stderr",
     "output_type": "stream",
     "text": [
      "Check: endpoint diabetes-endpoint exists\n",
      "\u001b[32mUploading score (0.0 MBs): 100%|██████████| 858/858 [00:00<00:00, 2552.07it/s]\n",
      "\u001b[39m\n",
      "\n"
     ]
    },
    {
     "name": "stdout",
     "output_type": "stream",
     "text": [
      "....................................................................................................................................................................................................................."
     ]
    }
   ],
   "source": [
    "blue_deploy_result = ml_client.online_deployments.begin_create_or_update(blue_deployment).result()"
   ]
  },
  {
   "cell_type": "code",
   "execution_count": 50,
   "metadata": {},
   "outputs": [
    {
     "name": "stderr",
     "output_type": "stream",
     "text": [
      "Readonly attribute principal_id will be ignored in class <class 'azure.ai.ml._restclient.v2022_05_01.models._models_py3.ManagedServiceIdentity'>\n",
      "Readonly attribute tenant_id will be ignored in class <class 'azure.ai.ml._restclient.v2022_05_01.models._models_py3.ManagedServiceIdentity'>\n"
     ]
    },
    {
     "data": {
      "text/plain": [
       "<azure.core.polling._poller.LROPoller at 0x7f5c0f631df0>"
      ]
     },
     "execution_count": 50,
     "metadata": {},
     "output_type": "execute_result"
    }
   ],
   "source": [
    "# blue deployment taking 100% traffic\n",
    "ep.traffic = {\"blue\":100}\n",
    "ml_client.online_endpoints.begin_create_or_update(ep)"
   ]
  },
  {
   "cell_type": "code",
   "execution_count": 52,
   "metadata": {},
   "outputs": [
    {
     "name": "stdout",
     "output_type": "stream",
     "text": [
      "Name: diabetes-endpoint \n",
      "Status: Succeeded \n",
      "Description None\n"
     ]
    }
   ],
   "source": [
    "print(f\"Name: {ep.name} \\nStatus: {ep.provisioning_state} \\nDescription {ep.description}\")"
   ]
  },
  {
   "cell_type": "markdown",
   "metadata": {},
   "source": [
    "## Testing deployment"
   ]
  },
  {
   "cell_type": "code",
   "execution_count": 53,
   "metadata": {},
   "outputs": [],
   "source": [
    "os.makedirs(\"AzureML/testing\",exist_ok=True)"
   ]
  },
  {
   "cell_type": "code",
   "execution_count": 54,
   "metadata": {},
   "outputs": [
    {
     "data": {
      "text/plain": [
       "'https://diabetes-endpoint.eastasia.inference.ml.azure.com/score'"
      ]
     },
     "execution_count": 54,
     "metadata": {},
     "output_type": "execute_result"
    }
   ],
   "source": [
    "ep.scoring_uri"
   ]
  },
  {
   "cell_type": "code",
   "execution_count": 55,
   "metadata": {},
   "outputs": [
    {
     "data": {
      "text/plain": [
       "'G95JXfhdibpQZLsQ5eFeUa6n8OnNv7T8FXHHSgtIHeAM64XhoUe8JQQJ99BCAAAAAAAAAAAAINFRAZMLxbUi'"
      ]
     },
     "execution_count": 55,
     "metadata": {},
     "output_type": "execute_result"
    }
   ],
   "source": [
    "ep_cred = ml_client.online_endpoints.get_keys(name=ep_name).primary_key\n",
    "ep_cred"
   ]
  },
  {
   "cell_type": "code",
   "execution_count": 58,
   "metadata": {},
   "outputs": [
    {
     "data": {
      "text/plain": [
       "b'[1, 0]'"
      ]
     },
     "execution_count": 58,
     "metadata": {},
     "output_type": "execute_result"
    }
   ],
   "source": [
    "import json\n",
    "import requests\n",
    "\n",
    "url = 'https://diabetes-endpoint.eastasia.inference.ml.azure.com/score'\n",
    "api_key = 'G95JXfhdibpQZLsQ5eFeUa6n8OnNv7T8FXHHSgtIHeAM64XhoUe8JQQJ99BCAAAAAAAAAAAAINFRAZMLxbUi'\n",
    "header = {\"Content-Type\":\"application/json\", \"Authorization\":('Bearer '+api_key),\n",
    "          'azureml-model-deployment':'blue'}\n",
    "\n",
    "data = {'data':[\n",
    " [9,103,78,25,304,29.58219193,1.282869847,43], \n",
    " [7,115,47,52,35,41.51152348,0.079018568,23]\n",
    "]}\n",
    "\n",
    "\n",
    "response = requests.post(url,data=json.dumps(data),headers=header)\n",
    "response.content"
   ]
  },
  {
   "cell_type": "code",
   "execution_count": null,
   "metadata": {},
   "outputs": [],
   "source": []
  },
  {
   "cell_type": "code",
   "execution_count": null,
   "metadata": {},
   "outputs": [],
   "source": []
  }
 ],
 "metadata": {
  "kernelspec": {
   "display_name": "base",
   "language": "python",
   "name": "python3"
  },
  "language_info": {
   "codemirror_mode": {
    "name": "ipython",
    "version": 3
   },
   "file_extension": ".py",
   "mimetype": "text/x-python",
   "name": "python",
   "nbconvert_exporter": "python",
   "pygments_lexer": "ipython3",
   "version": "3.12.7"
  }
 },
 "nbformat": 4,
 "nbformat_minor": 2
}
